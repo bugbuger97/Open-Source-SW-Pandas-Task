{
  "nbformat": 4,
  "nbformat_minor": 0,
  "metadata": {
    "colab": {
      "provenance": []
    },
    "kernelspec": {
      "name": "python3",
      "display_name": "Python 3"
    },
    "language_info": {
      "name": "python"
    }
  },
  "cells": [
    {
      "cell_type": "markdown",
      "source": [
        "#2-2 프로젝트 목표\n",
        "\n",
        "특정 연도의 타자의 연봉을 예측하기 위해 다양한 ML 모델을 훈련시킵니다.\n",
        "\n",
        "이것은 회귀이며 3가지 종류의 ML 모델을 사용합니다.\n",
        "\n",
        "1. Decision Tree Regressor\n",
        "2. Random Forest Regressor\n",
        "3. Support Vector Machine Regressor\n",
        "\n",
        "(We will use only numerical features)\n",
        "\n",
        "# 프로젝트 요구사항\n",
        "\n",
        "1. 전체 데이터를 연도(해당 시즌) 열 기준으로 오름차순 정렬.\n",
        "2. 전체 데이터를 학습/테스트 데이터세트로 분할합니다.\n",
        "3. 숫자열만 추출\n",
        "▪ 숫자 열: 'age', 'G', 'PA', 'AB', 'R', 'H', '2B', '3B', 'HR', 'RBI','SB', 'CS', 'BB', 'HBP', 'SO', 'GDP', 'fly', 'war'\n",
        "4. 의사 결정 트리, 랜덤 포레스트 및 svm에 대한 학습 및 예측 기능을 완료합니다.\n",
        "5. 주어진 라벨 및 예측에 대한 RMSE 계산.\n"
      ],
      "metadata": {
        "id": "0H2K94tpZAgF"
      }
    },
    {
      "cell_type": "code",
      "source": [
        "import pandas as pd\n",
        "from sklearn.model_selection import train_test_split\n",
        "from sklearn.tree import DecisionTreeRegressor\n",
        "from sklearn.ensemble import RandomForestRegressor\n",
        "from sklearn.svm import SVR\n",
        "from sklearn.pipeline import Pipeline\n",
        "from sklearn.preprocessing import StandardScaler\n",
        "from sklearn.metrics import mean_squared_error\n",
        "import numpy as np\n",
        "\n",
        "def sort_dataset(dataset_df):\n",
        "  return dataset_df.sort_values(by='year', ascending=True)\n",
        "\n",
        "def split_dataset(dataset_df):\n",
        "  X = dataset_df.drop('salary', axis=1)\n",
        "  Y = dataset_df['salary'] * 0.001\n",
        "  # 인덱스 길이가 1913이고 train set에 1718길이 만큼 넣고 싶으니 나누면 약 0.8980658이다. -> test_size에 1-0.8980658 = 약0.1019를 넣는다.\n",
        "  return train_test_split(X, Y, test_size=0.1019, random_state=0, shuffle=False)\n",
        "\n",
        "def extract_numerical_cols(dataset_df):\n",
        "\treturn dataset_df[['age', 'G', 'PA', 'AB', 'R', 'H', '2B', '3B', 'HR', 'RBI', 'SB', 'CS', 'BB', 'HBP', 'SO', 'GDP', 'fly', 'war']]\n",
        "\n",
        "def train_predict_decision_tree(X_train, Y_train, X_test):\n",
        "  dtr = DecisionTreeRegressor()\n",
        "  dtr.fit(X_train, Y_train)\n",
        "  return dtr.predict(X_test)\n",
        "\n",
        "def train_predict_random_forest(X_train, Y_train, X_test):\n",
        "  rfr = RandomForestRegressor()\n",
        "  rfr.fit(X_train, Y_train)\n",
        "  return rfr.predict(X_test)\n",
        "\n",
        "def train_predict_svm(X_train, Y_train, X_test):\n",
        "  pipeline = Pipeline([('scaler', StandardScaler()), ('svm', SVR())])\n",
        "  pipeline.fit(X_train, Y_train)\n",
        "  return pipeline.predict(X_test)\n",
        "\n",
        "def calculate_RMSE(labels, predictions):\n",
        "  mse = mean_squared_error(labels, predictions)\n",
        "  return np.sqrt(mse)\n",
        "\n",
        "if __name__=='__main__':\n",
        "\t#DO NOT MODIFY THIS FUNCTION UNLESS PATH TO THE CSV MUST BE CHANGED.\n",
        "\tdata_df = pd.read_csv('2019_kbo_for_kaggle_v2.csv')\n",
        "\n",
        "\tsorted_df = sort_dataset(data_df)\n",
        "\tX_train, X_test, Y_train, Y_test = split_dataset(sorted_df)\n",
        "\n",
        "\tX_train = extract_numerical_cols(X_train)\n",
        "\tX_test = extract_numerical_cols(X_test)\n",
        "\n",
        "\tdt_predictions = train_predict_decision_tree(X_train, Y_train, X_test)\n",
        "\trf_predictions = train_predict_random_forest(X_train, Y_train, X_test)\n",
        "\tsvm_predictions = train_predict_svm(X_train, Y_train, X_test)\n",
        "\n",
        "\tprint (\"Decision Tree Test RMSE: \", calculate_RMSE(Y_test, dt_predictions))\n",
        "\tprint (\"Random Forest Test RMSE: \", calculate_RMSE(Y_test, rf_predictions))\n",
        "\tprint (\"SVM Test RMSE: \", calculate_RMSE(Y_test, svm_predictions))"
      ],
      "metadata": {
        "colab": {
          "base_uri": "https://localhost:8080/"
        },
        "id": "bop8WpIhXUTY",
        "outputId": "0b567e72-066f-4122-996f-79147f2a2934"
      },
      "execution_count": null,
      "outputs": [
        {
          "output_type": "stream",
          "name": "stdout",
          "text": [
            "Decision Tree Test RMSE:  30.74259719105206\n",
            "Random Forest Test RMSE:  22.96519731232681\n",
            "SVM Test RMSE:  32.38048449830289\n"
          ]
        }
      ]
    }
  ]
}